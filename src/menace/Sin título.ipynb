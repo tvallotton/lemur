{
 "metadata": {
  "language_info": {
   "codemirror_mode": {
    "name": "ipython",
    "version": 3
   },
   "file_extension": ".py",
   "mimetype": "text/x-python",
   "name": "python",
   "nbconvert_exporter": "python",
   "pygments_lexer": "ipython3",
   "version": "3.8.5-final"
  },
  "orig_nbformat": 2,
  "kernelspec": {
   "name": "venv",
   "display_name": "venv",
   "language": "python"
  }
 },
 "nbformat": 4,
 "nbformat_minor": 2,
 "cells": [
  {
   "cell_type": "code",
   "execution_count": 501,
   "metadata": {},
   "outputs": [],
   "source": [
    "\n",
    "\n",
    "\n",
    "import numpy as np\n",
    "\n",
    "def valid(array):    \n",
    "    X = True\n",
    "    for boolean in (array == 'X'):\n",
    "        X &= boolean\n",
    "    if X:\n",
    "        return 'X'\n",
    "    O = True\n",
    "    for boolean in (array == 'O'):\n",
    "        O &= boolean\n",
    "    if O:\n",
    "        return 'O'\n",
    "\n",
    "\n",
    "class Table: \n",
    "    def __init__(self, array): \n",
    "        self.array = array\n",
    "\n",
    "    def __repr__(self): \n",
    "        return str(self.array)\n",
    "\n",
    "    def available(self):\n",
    "        return [(x, y) for x in range(3) for y in range(3) if not self.array[x][y]]\n",
    "\n",
    "\n",
    "    def winner(self): \n",
    "        array = np.array(self.array)\n",
    "        if out := valid(array[:,0]):\n",
    "            return out\n",
    "        if out := valid(array[:,1]):\n",
    "            return out\n",
    "        if out := valid(array[:,2]):\n",
    "            return out\n",
    "        if out := valid(array[0,:]):\n",
    "            return out\n",
    "        if out := valid(array[1,:]):\n",
    "            return out\n",
    "        if out := valid(array[2,:]):\n",
    "            return out\n",
    "        \n",
    "        first = self.array[0][0]\n",
    "        out = True\n",
    "        for i in range(3):\n",
    "            out &= self.array[i][i] == first\n",
    "\n",
    "        if out:\n",
    "            return first\n",
    "\n",
    "        third = self.array[0][2]\n",
    "        out = True\n",
    "        for i in range(3):\n",
    "            out &= self.array[i][2-i] == third\n",
    "\n",
    "        if out:\n",
    "            return third\n",
    "        \n",
    "    def __hash__(self):\n",
    "        return hash(tuple(hash(self.array[i][j]) for i in range(3) for j in range(3)))\n",
    "\n",
    "\n",
    "    def count_turn(self):\n",
    "        turn = 0\n",
    "        for row in self.array:\n",
    "            for el in row:\n",
    "                if el:\n",
    "                    turn += 1\n",
    "        return turn\n",
    "\n",
    "\n",
    "    def move(self, move, player):\n",
    "        self.array[move[0]][move[1]] = player\n",
    "\n",
    "    def __eq__(self, other):\n",
    "        return hash(self) == hash(other)\n"
   ]
  },
  {
   "cell_type": "code",
   "execution_count": 508,
   "metadata": {},
   "outputs": [],
   "source": [
    "\n",
    "\n",
    "class Menace:\n",
    "    def __init__(self):\n",
    "        self.map = {}\n",
    "\n",
    "    def get_move(self, table) -> (int, int):\n",
    "        choices = self.map.get(table, None)\n",
    "        \n",
    "        if not choices:\n",
    "            self.set_choices(table)\n",
    "            choices = self.map[table]\n",
    "\n",
    "        i = np.random.randint(len(choices))\n",
    "        return choices[i]\n",
    "\n",
    "    def reward(self, table, move):\n",
    "        try:\n",
    "            self.map[table].append(move)\n",
    "        except:\n",
    "            pass\n",
    "            \n",
    "\n",
    "    def punish(self, table, move):\n",
    "        try:\n",
    "            if len(self.map[table]) > 1 and (move in self.map[table]):\n",
    "                self.map[table].remove(move)\n",
    "        except:\n",
    "            pass\n",
    "\n",
    "        \n",
    "    def set_choices(self, table):\n",
    "        available = table.available()\n",
    "        available *= (12 - table.count_turn()) // 3\n",
    "        self.map[table] = available\n",
    "        \n",
    "\n"
   ]
  },
  {
   "cell_type": "code",
   "execution_count": 509,
   "metadata": {},
   "outputs": [],
   "source": [
    "\n",
    "\n",
    "class Game: \n",
    "    def __init__(self, menace: Menace):\n",
    "\n",
    "        self.menace = menace\n",
    "        self.restart()\n",
    "\n",
    "    def restart(self):\n",
    "        self.table = Table([[None for i in range(3)] for j in range(3)])\n",
    "        self.xmoves = {}\n",
    "        self.ymoves = {}\n",
    "        self.turn = 'X'\n",
    "\n",
    "    def move(self):\n",
    "        move = self.menace.get_move(self.table)\n",
    "        if self.turn == 'X':\n",
    "            self.xmoves[self.table] = move\n",
    "        else:\n",
    "            self.ymoves[self.table] = move\n",
    "        \n",
    "        self.table.move(move, self.turn)\n",
    "        \n",
    "        if self.turn == 'X':\n",
    "            self.turn = 'O'\n",
    "        else:\n",
    "            self.turn = 'X'\n",
    "\n",
    "\n",
    "    def finished(self):\n",
    "        if self.table.winner() or not self.table.available():\n",
    "            return True\n",
    "        else:\n",
    "            return False\n",
    "\n",
    "    def reward_and_punish(self):\n",
    "        if self.table.winner() == 'X':\n",
    "            for table, move in self.xmoves.items():\n",
    "                self.menace.reward(table, move)\n",
    "\n",
    "            for table, move in self.ymoves.items():\n",
    "                self.menace.punish(table, move)\n",
    "        elif self.table.winner() == 'O':\n",
    "            for table, move in self.xmoves.items():\n",
    "                self.menace.punish(table, move)\n",
    "\n",
    "            for table, move in self.ymoves.items():\n",
    "                self.menace.reward(table, move)\n",
    "        \n"
   ]
  },
  {
   "cell_type": "code",
   "execution_count": 510,
   "metadata": {},
   "outputs": [],
   "source": [
    "class Trainer:\n",
    "\n",
    "    def __init__(self, menace = Menace()):\n",
    "\n",
    "        self.game = Game(menace)\n",
    "\n",
    "    def train_for(self, number):\n",
    "\n",
    "        for i in range(number):\n",
    "\n",
    "            while not self.game.finished():\n",
    "                self.game.move()\n",
    "            self.game.reward_and_punish()\n",
    "            self.game.restart()\n",
    "\n"
   ]
  },
  {
   "cell_type": "code",
   "execution_count": 511,
   "metadata": {},
   "outputs": [],
   "source": [
    "game = Game(Menace())"
   ]
  },
  {
   "cell_type": "code",
   "execution_count": 512,
   "metadata": {},
   "outputs": [],
   "source": [
    "trainer = Trainer()\n"
   ]
  },
  {
   "cell_type": "code",
   "execution_count": 515,
   "metadata": {},
   "outputs": [],
   "source": [
    "\n",
    "\n",
    "menace = trainer.game.menace"
   ]
  },
  {
   "cell_type": "code",
   "execution_count": 614,
   "metadata": {},
   "outputs": [],
   "source": [
    "table = Table([[None for j in range(3)] for i in range(3)])"
   ]
  },
  {
   "cell_type": "code",
   "execution_count": 619,
   "metadata": {},
   "outputs": [
    {
     "output_type": "execute_result",
     "data": {
      "text/plain": [
       "[['O', None, 'X'], [None, None, 'O'], ['X', 'X', None]]"
      ]
     },
     "metadata": {},
     "execution_count": 619
    }
   ],
   "source": [
    "\n",
    "\n",
    "move = menace.get_move(table)\n",
    "table.move(move, 'X')\n",
    "table"
   ]
  },
  {
   "cell_type": "code",
   "execution_count": 611,
   "metadata": {},
   "outputs": [
    {
     "output_type": "execute_result",
     "data": {
      "text/plain": [
       "[['O', 'X', None], ['X', 'O', None], ['X', None, 'O']]"
      ]
     },
     "metadata": {},
     "execution_count": 611
    }
   ],
   "source": [
    "table.move((2, 2), 'O')\n",
    "table"
   ]
  },
  {
   "cell_type": "code",
   "execution_count": 612,
   "metadata": {},
   "outputs": [
    {
     "output_type": "execute_result",
     "data": {
      "text/plain": [
       "'O'"
      ]
     },
     "metadata": {},
     "execution_count": 612
    }
   ],
   "source": [
    "table.winner()"
   ]
  },
  {
   "cell_type": "code",
   "execution_count": 603,
   "metadata": {},
   "outputs": [
    {
     "output_type": "execute_result",
     "data": {
      "text/plain": [
       "57527"
      ]
     },
     "metadata": {},
     "execution_count": 603
    }
   ],
   "source": [
    "len(menace.map.keys())"
   ]
  },
  {
   "cell_type": "code",
   "execution_count": null,
   "metadata": {},
   "outputs": [],
   "source": []
  }
 ]
}